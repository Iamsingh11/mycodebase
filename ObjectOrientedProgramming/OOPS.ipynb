{
 "cells": [
  {
   "cell_type": "code",
   "execution_count": 1,
   "metadata": {
    "collapsed": true,
    "ExecuteTime": {
     "end_time": "2023-07-17T11:52:54.688419900Z",
     "start_time": "2023-07-17T11:52:54.661515600Z"
    }
   },
   "outputs": [
    {
     "name": "stdout",
     "output_type": "stream",
     "text": [
      "ID:  1234\n",
      "Title: Manager\n"
     ]
    }
   ],
   "source": [
    "class Employee:\n",
    "    ID=None\n",
    "    salary=None\n",
    "    department=None\n",
    "steve=Employee()\n",
    "steve.ID=1234\n",
    "steve.salary=10000\n",
    "steve.department='HR'\n",
    "#in Python, we can create a property outside the class in python\n",
    "steve.title='Manager'\n",
    "\n",
    "print('ID: ',steve.ID)\n",
    "print('Title:',steve.title)"
   ]
  },
  {
   "cell_type": "code",
   "execution_count": 3,
   "outputs": [
    {
     "data": {
      "text/plain": "123"
     },
     "execution_count": 3,
     "metadata": {},
     "output_type": "execute_result"
    }
   ],
   "source": [
    "#Defining inititalizer or constructers\n",
    "class Employee:\n",
    "    def __init__(self,ID,salary,dept):\n",
    "        self.ID=ID\n",
    "        self.salary=salary\n",
    "        self.dept=dept\n",
    "steve=Employee(123,10000,'Management')\n",
    "steve.ID"
   ],
   "metadata": {
    "collapsed": false,
    "ExecuteTime": {
     "end_time": "2023-07-17T11:59:17.331221900Z",
     "start_time": "2023-07-17T11:59:17.308234700Z"
    }
   }
  },
  {
   "cell_type": "code",
   "execution_count": 5,
   "outputs": [
    {
     "data": {
      "text/plain": "1000"
     },
     "execution_count": 5,
     "metadata": {},
     "output_type": "execute_result"
    }
   ],
   "source": [
    "#Defining inititalizer or constructers with optional parameters\n",
    "class Employee:\n",
    "    def __init__(self,ID=None,salary=1000,dept=None):\n",
    "        self.ID=ID\n",
    "        self.salary=salary\n",
    "        self.dept=dept\n",
    "steve=Employee()\n",
    "steve.salary"
   ],
   "metadata": {
    "collapsed": false,
    "ExecuteTime": {
     "end_time": "2023-07-17T12:01:07.195643400Z",
     "start_time": "2023-07-17T12:01:07.161554800Z"
    }
   }
  },
  {
   "cell_type": "code",
   "execution_count": 6,
   "outputs": [
    {
     "name": "stdout",
     "output_type": "stream",
     "text": [
      "Steven Gerrard\n",
      "Liverpool\n"
     ]
    }
   ],
   "source": [
    "#class and instance variables\n",
    "class Player:\n",
    "    teamName='Liverpool'\n",
    "    def __init__(self,name):\n",
    "        self.name=name\n",
    "p1=Player('Steven Gerrard')\n",
    "p2=Player('Dirk Kyut')\n",
    "\n",
    "print(p1.name)\n",
    "print(p2.teamName)"
   ],
   "metadata": {
    "collapsed": false,
    "ExecuteTime": {
     "end_time": "2023-07-17T12:04:59.090576600Z",
     "start_time": "2023-07-17T12:04:59.069646500Z"
    }
   }
  },
  {
   "cell_type": "code",
   "execution_count": 14,
   "outputs": [
    {
     "name": "stdout",
     "output_type": "stream",
     "text": [
      "a= 1\n",
      "b= 2\n",
      "c= 3\n",
      "d= 5\n",
      "e= None\n",
      "a= 1\n",
      "b= 2\n",
      "c= 3\n",
      "d= 4\n",
      "e= None\n",
      "a= 1\n",
      "b= 2\n",
      "c= 3\n",
      "d= 4\n",
      "e= 5\n"
     ]
    }
   ],
   "source": [
    "#instance method, class method, static method\n",
    "class Employee:\n",
    "    def __init__(self,ID=None,salary=1000,dept=None):\n",
    "        self.ID=ID\n",
    "        self.salary=salary\n",
    "        self.dept=dept\n",
    "    def demo(self,a,b,c,d=5,e=None):\n",
    "        print(\"a=\",a)\n",
    "        print(\"b=\",b)\n",
    "        print(\"c=\",c)\n",
    "        print(\"d=\",d)\n",
    "        print(\"e=\",e)\n",
    "    def tax(self):\n",
    "        return self.salary*0.2\n",
    "    def salaryPerDay(self):\n",
    "        return self.salary/30\n",
    "steve=Employee()\n",
    "steve.demo(1,2,3)\n",
    "steve.demo(1,2,3,4)\n",
    "steve.demo(1,2,3,4,5)"
   ],
   "metadata": {
    "collapsed": false,
    "ExecuteTime": {
     "end_time": "2023-07-17T13:03:45.700924900Z",
     "start_time": "2023-07-17T13:03:45.653025900Z"
    }
   }
  },
  {
   "cell_type": "code",
   "execution_count": 16,
   "outputs": [
    {
     "data": {
      "text/plain": "'educative'"
     },
     "execution_count": 16,
     "metadata": {},
     "output_type": "execute_result"
    }
   ],
   "source": [
    "class MyClass:\n",
    "    classVaraible='educative'\n",
    "    @classmethod\n",
    "    def demo(cls):\n",
    "        return cls.classVaraible\n",
    "MyClass.demo()\n",
    "#class methods are accessed using the class name and can be accessed without creating a class objects.\n",
    "#it has at least one argument 'cls'"
   ],
   "metadata": {
    "collapsed": false,
    "ExecuteTime": {
     "end_time": "2023-07-17T13:08:25.089985800Z",
     "start_time": "2023-07-17T13:08:25.077060300Z"
    }
   }
  },
  {
   "cell_type": "code",
   "execution_count": 17,
   "outputs": [
    {
     "name": "stdout",
     "output_type": "stream",
     "text": [
      "I am a static method\n",
      "I am a static method\n"
     ]
    }
   ],
   "source": [
    "#static methods are usually linked to class only and not their objects. they have no direct relations to the class variable or instance variable, it can be accessed using the class name or object name\n",
    "\n",
    "class MyClass:\n",
    "    @staticmethod\n",
    "    def demo():\n",
    "        print('I am a static method')\n",
    "\n",
    "p1=MyClass()\n",
    "p1.demo()\n",
    "MyClass.demo()\n",
    "#static method don't know anything about the state of the class and can't modify class attributes."
   ],
   "metadata": {
    "collapsed": false,
    "ExecuteTime": {
     "end_time": "2023-07-17T13:12:24.387430400Z",
     "start_time": "2023-07-17T13:12:24.382445Z"
    }
   }
  },
  {
   "cell_type": "code",
   "execution_count": 18,
   "outputs": [
    {
     "name": "stdout",
     "output_type": "stream",
     "text": [
      "23.148148148148145\n"
     ]
    }
   ],
   "source": [
    "class BodyInfo:\n",
    "    @staticmethod\n",
    "    def bmi(weight,height):\n",
    "        return weight/(height**2)\n",
    "weight=75\n",
    "height=1.8\n",
    "\n",
    "print(BodyInfo.bmi(weight,height))"
   ],
   "metadata": {
    "collapsed": false,
    "ExecuteTime": {
     "end_time": "2023-07-17T13:14:46.612825900Z",
     "start_time": "2023-07-17T13:14:46.590908300Z"
    }
   }
  },
  {
   "cell_type": "code",
   "execution_count": 29,
   "outputs": [
    {
     "name": "stdout",
     "output_type": "stream",
     "text": [
      "123\n",
      "Salary: 1000\n"
     ]
    },
    {
     "ename": "AttributeError",
     "evalue": "'Employee' object has no attribute '__salary'",
     "output_type": "error",
     "traceback": [
      "\u001B[1;31m---------------------------------------------------------------------------\u001B[0m",
      "\u001B[1;31mAttributeError\u001B[0m                            Traceback (most recent call last)",
      "Cell \u001B[1;32mIn[29], line 14\u001B[0m\n\u001B[0;32m     12\u001B[0m \u001B[38;5;66;03m#private methods can't be accessed from outside class\u001B[39;00m\n\u001B[0;32m     13\u001B[0m steve\u001B[38;5;241m.\u001B[39mdisplaySalary()\n\u001B[1;32m---> 14\u001B[0m \u001B[38;5;28mprint\u001B[39m(\u001B[43msteve\u001B[49m\u001B[38;5;241;43m.\u001B[39;49m\u001B[43m__salary\u001B[49m)\n\u001B[0;32m     15\u001B[0m \u001B[38;5;66;03m#below method will also throw an error as its private\u001B[39;00m\n\u001B[0;32m     16\u001B[0m steve\u001B[38;5;241m.\u001B[39m__displayID()\n",
      "\u001B[1;31mAttributeError\u001B[0m: 'Employee' object has no attribute '__salary'"
     ]
    }
   ],
   "source": [
    "#Access Modifiers:\n",
    "class Employee:\n",
    "    def __init__(self,ID,salary):\n",
    "        self.ID=ID\n",
    "        self.__salary=salary\n",
    "    def displaySalary(self):\n",
    "        print(\"Salary:\",self.__salary)\n",
    "    def __displayID(self):\n",
    "        print(self.ID)\n",
    "steve=Employee(123,1000)\n",
    "print(steve.ID)\n",
    "#private methods can't be accessed from outside class\n",
    "steve.displaySalary()\n",
    "print(steve.__salary)\n",
    "#below method will also throw an error as its private\n",
    "steve.__displayID()"
   ],
   "metadata": {
    "collapsed": false,
    "ExecuteTime": {
     "end_time": "2023-07-17T14:43:54.750402300Z",
     "start_time": "2023-07-17T14:43:54.723396600Z"
    }
   }
  },
  {
   "cell_type": "code",
   "execution_count": 30,
   "outputs": [
    {
     "name": "stdout",
     "output_type": "stream",
     "text": [
      "19000\n"
     ]
    }
   ],
   "source": [
    "#accessing private properties by using _className__propertyName\n",
    "class Employee:\n",
    "    def __init__(self,ID,salary):\n",
    "        self.ID=ID\n",
    "        self.__salary=salary\n",
    "steve=Employee(123,19000)\n",
    "\n",
    "print(steve._Employee__salary)"
   ],
   "metadata": {
    "collapsed": false,
    "ExecuteTime": {
     "end_time": "2023-07-17T14:46:26.451273800Z",
     "start_time": "2023-07-17T14:46:26.396002500Z"
    }
   }
  },
  {
   "cell_type": "code",
   "execution_count": null,
   "outputs": [],
   "source": [],
   "metadata": {
    "collapsed": false
   }
  }
 ],
 "metadata": {
  "kernelspec": {
   "display_name": "Python 3",
   "language": "python",
   "name": "python3"
  },
  "language_info": {
   "codemirror_mode": {
    "name": "ipython",
    "version": 2
   },
   "file_extension": ".py",
   "mimetype": "text/x-python",
   "name": "python",
   "nbconvert_exporter": "python",
   "pygments_lexer": "ipython2",
   "version": "2.7.6"
  }
 },
 "nbformat": 4,
 "nbformat_minor": 0
}
