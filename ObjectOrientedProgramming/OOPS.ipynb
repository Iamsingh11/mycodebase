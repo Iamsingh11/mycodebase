{
 "cells": [
  {
   "cell_type": "code",
   "execution_count": 1,
   "metadata": {
    "collapsed": true,
    "ExecuteTime": {
     "end_time": "2023-07-18T04:17:36.242193Z",
     "start_time": "2023-07-18T04:17:36.228642Z"
    }
   },
   "outputs": [
    {
     "name": "stdout",
     "output_type": "stream",
     "text": [
      "ID:  1234\n",
      "Title: Manager\n"
     ]
    }
   ],
   "source": [
    "class Employee:\n",
    "    ID=None\n",
    "    salary=None\n",
    "    department=None\n",
    "steve=Employee()\n",
    "steve.ID=1234\n",
    "steve.salary=10000\n",
    "steve.department='HR'\n",
    "#in Python, we can create a property outside the class in python\n",
    "steve.title='Manager'\n",
    "\n",
    "print('ID: ',steve.ID)\n",
    "print('Title:',steve.title)"
   ]
  },
  {
   "cell_type": "code",
   "execution_count": 2,
   "outputs": [
    {
     "data": {
      "text/plain": "123"
     },
     "execution_count": 2,
     "metadata": {},
     "output_type": "execute_result"
    }
   ],
   "source": [
    "#Defining inititalizer or constructers\n",
    "class Employee:\n",
    "    def __init__(self,ID,salary,dept):\n",
    "        self.ID=ID\n",
    "        self.salary=salary\n",
    "        self.dept=dept\n",
    "steve=Employee(123,10000,'Management')\n",
    "steve.ID"
   ],
   "metadata": {
    "collapsed": false,
    "ExecuteTime": {
     "end_time": "2023-07-18T04:17:36.254564Z",
     "start_time": "2023-07-18T04:17:36.242734Z"
    }
   }
  },
  {
   "cell_type": "code",
   "execution_count": 3,
   "outputs": [
    {
     "data": {
      "text/plain": "1000"
     },
     "execution_count": 3,
     "metadata": {},
     "output_type": "execute_result"
    }
   ],
   "source": [
    "#Defining inititalizer or constructers with optional parameters\n",
    "class Employee:\n",
    "    def __init__(self,ID=None,salary=1000,dept=None):\n",
    "        self.ID=ID\n",
    "        self.salary=salary\n",
    "        self.dept=dept\n",
    "steve=Employee()\n",
    "steve.salary"
   ],
   "metadata": {
    "collapsed": false,
    "ExecuteTime": {
     "end_time": "2023-07-18T04:17:36.255017Z",
     "start_time": "2023-07-18T04:17:36.243237Z"
    }
   }
  },
  {
   "cell_type": "code",
   "execution_count": 4,
   "outputs": [
    {
     "name": "stdout",
     "output_type": "stream",
     "text": [
      "Steven Gerrard\n",
      "Liverpool\n"
     ]
    }
   ],
   "source": [
    "#class and instance variables\n",
    "class Player:\n",
    "    teamName='Liverpool'\n",
    "    def __init__(self,name):\n",
    "        self.name=name\n",
    "p1=Player('Steven Gerrard')\n",
    "p2=Player('Dirk Kyut')\n",
    "\n",
    "print(p1.name)\n",
    "print(p2.teamName)"
   ],
   "metadata": {
    "collapsed": false,
    "ExecuteTime": {
     "end_time": "2023-07-18T04:17:36.255510Z",
     "start_time": "2023-07-18T04:17:36.243553Z"
    }
   }
  },
  {
   "cell_type": "code",
   "execution_count": 5,
   "outputs": [
    {
     "name": "stdout",
     "output_type": "stream",
     "text": [
      "a= 1\n",
      "b= 2\n",
      "c= 3\n",
      "d= 5\n",
      "e= None\n",
      "a= 1\n",
      "b= 2\n",
      "c= 3\n",
      "d= 4\n",
      "e= None\n",
      "a= 1\n",
      "b= 2\n",
      "c= 3\n",
      "d= 4\n",
      "e= 5\n"
     ]
    }
   ],
   "source": [
    "#instance method, class method, static method\n",
    "class Employee:\n",
    "    def __init__(self,ID=None,salary=1000,dept=None):\n",
    "        self.ID=ID\n",
    "        self.salary=salary\n",
    "        self.dept=dept\n",
    "    def demo(self,a,b,c,d=5,e=None):\n",
    "        print(\"a=\",a)\n",
    "        print(\"b=\",b)\n",
    "        print(\"c=\",c)\n",
    "        print(\"d=\",d)\n",
    "        print(\"e=\",e)\n",
    "    def tax(self):\n",
    "        return self.salary*0.2\n",
    "    def salaryPerDay(self):\n",
    "        return self.salary/30\n",
    "steve=Employee()\n",
    "steve.demo(1,2,3)\n",
    "steve.demo(1,2,3,4)\n",
    "steve.demo(1,2,3,4,5)"
   ],
   "metadata": {
    "collapsed": false,
    "ExecuteTime": {
     "end_time": "2023-07-18T04:17:36.286948Z",
     "start_time": "2023-07-18T04:17:36.260715Z"
    }
   }
  },
  {
   "cell_type": "code",
   "execution_count": 6,
   "outputs": [
    {
     "data": {
      "text/plain": "'educative'"
     },
     "execution_count": 6,
     "metadata": {},
     "output_type": "execute_result"
    }
   ],
   "source": [
    "class MyClass:\n",
    "    classVaraible='educative'\n",
    "    @classmethod\n",
    "    def demo(cls):\n",
    "        return cls.classVaraible\n",
    "MyClass.demo()\n",
    "#class methods are accessed using the class name and can be accessed without creating a class objects.\n",
    "#it has at least one argument 'cls'"
   ],
   "metadata": {
    "collapsed": false,
    "ExecuteTime": {
     "end_time": "2023-07-18T04:17:36.292205Z",
     "start_time": "2023-07-18T04:17:36.264475Z"
    }
   }
  },
  {
   "cell_type": "code",
   "execution_count": 7,
   "outputs": [
    {
     "name": "stdout",
     "output_type": "stream",
     "text": [
      "I am a static method\n",
      "I am a static method\n"
     ]
    }
   ],
   "source": [
    "#static methods are usually linked to class only and not their objects. they have no direct relations to the class variable or instance variable, it can be accessed using the class name or object name\n",
    "\n",
    "class MyClass:\n",
    "    @staticmethod\n",
    "    def demo():\n",
    "        print('I am a static method')\n",
    "\n",
    "p1=MyClass()\n",
    "p1.demo()\n",
    "MyClass.demo()\n",
    "#static method don't know anything about the state of the class and can't modify class attributes."
   ],
   "metadata": {
    "collapsed": false,
    "ExecuteTime": {
     "end_time": "2023-07-18T04:17:36.292498Z",
     "start_time": "2023-07-18T04:17:36.268356Z"
    }
   }
  },
  {
   "cell_type": "code",
   "execution_count": 8,
   "outputs": [
    {
     "name": "stdout",
     "output_type": "stream",
     "text": [
      "23.148148148148145\n"
     ]
    }
   ],
   "source": [
    "class BodyInfo:\n",
    "    @staticmethod\n",
    "    def bmi(weight,height):\n",
    "        return weight/(height**2)\n",
    "weight=75\n",
    "height=1.8\n",
    "\n",
    "print(BodyInfo.bmi(weight,height))"
   ],
   "metadata": {
    "collapsed": false,
    "ExecuteTime": {
     "end_time": "2023-07-18T04:17:36.292631Z",
     "start_time": "2023-07-18T04:17:36.271522Z"
    }
   }
  },
  {
   "cell_type": "code",
   "execution_count": 9,
   "outputs": [
    {
     "name": "stdout",
     "output_type": "stream",
     "text": [
      "123\n",
      "Salary: 1000\n"
     ]
    },
    {
     "ename": "AttributeError",
     "evalue": "'Employee' object has no attribute '__salary'",
     "output_type": "error",
     "traceback": [
      "\u001B[0;31m---------------------------------------------------------------------------\u001B[0m",
      "\u001B[0;31mAttributeError\u001B[0m                            Traceback (most recent call last)",
      "Cell \u001B[0;32mIn[9], line 14\u001B[0m\n\u001B[1;32m     12\u001B[0m \u001B[38;5;66;03m#private methods can't be accessed from outside class\u001B[39;00m\n\u001B[1;32m     13\u001B[0m steve\u001B[38;5;241m.\u001B[39mdisplaySalary()\n\u001B[0;32m---> 14\u001B[0m \u001B[38;5;28mprint\u001B[39m(\u001B[43msteve\u001B[49m\u001B[38;5;241;43m.\u001B[39;49m\u001B[43m__salary\u001B[49m)\n\u001B[1;32m     15\u001B[0m \u001B[38;5;66;03m#below method will also throw an error as its private\u001B[39;00m\n\u001B[1;32m     16\u001B[0m steve\u001B[38;5;241m.\u001B[39m__displayID()\n",
      "\u001B[0;31mAttributeError\u001B[0m: 'Employee' object has no attribute '__salary'"
     ]
    }
   ],
   "source": [
    "#Access Modifiers:\n",
    "class Employee:\n",
    "    def __init__(self,ID,salary):\n",
    "        self.ID=ID\n",
    "        self.__salary=salary\n",
    "    def displaySalary(self):\n",
    "        print(\"Salary:\",self.__salary)\n",
    "    def __displayID(self):\n",
    "        print(self.ID)\n",
    "steve=Employee(123,1000)\n",
    "print(steve.ID)\n",
    "#private methods can't be accessed from outside class\n",
    "steve.displaySalary()\n",
    "print(steve.__salary)\n",
    "#below method will also throw an error as its private\n",
    "steve.__displayID()"
   ],
   "metadata": {
    "collapsed": false,
    "ExecuteTime": {
     "end_time": "2023-07-18T04:17:36.443666Z",
     "start_time": "2023-07-18T04:17:36.274801Z"
    }
   }
  },
  {
   "cell_type": "code",
   "execution_count": null,
   "outputs": [],
   "source": [
    "#accessing private properties by using _className__propertyName\n",
    "class Employee:\n",
    "    def __init__(self,ID,salary):\n",
    "        self.ID=ID\n",
    "        self.__salary=salary\n",
    "steve=Employee(123,19000)\n",
    "\n",
    "print(steve._Employee__salary)"
   ],
   "metadata": {
    "collapsed": false
   }
  },
  {
   "cell_type": "code",
   "execution_count": null,
   "outputs": [],
   "source": [
    "##Encapsulation\n",
    "class User:\n",
    "    def __init__(self,username=False):\n",
    "        self.__username=username\n",
    "    def setUsername(self,x):\n",
    "        self.__username=x\n",
    "    def getUsername(self):\n",
    "        return self.__username\n",
    "steve=User('steve11')\n",
    "print(steve.getUsername())\n",
    "steve.setUsername('steve12')\n",
    "print(steve.getUsername())"
   ],
   "metadata": {
    "collapsed": false
   }
  },
  {
   "cell_type": "code",
   "execution_count": 10,
   "outputs": [
    {
     "name": "stdout",
     "output_type": "stream",
     "text": [
      "Access Granted steve1 12345\n",
      "invalid credentials\n"
     ]
    }
   ],
   "source": [
    "# A good example of encapsulation\n",
    "class User:\n",
    "    def __init__(self,username=None, password=None):\n",
    "        self.__userName=username\n",
    "        self.__password=password\n",
    "    def login(self,userName,password):\n",
    "        if((self.__userName.lower())==userName.lower()) and (self.__password==password):\n",
    "            print('Access Granted', self.__userName,self.__password)\n",
    "        else:\n",
    "            print('invalid credentials')\n",
    "steve=User('steve1',\"12345\")\n",
    "steve.login('steve1',\"12345\")\n",
    "roy=User('roy1',\"12345\")\n",
    "roy.login('roy',\"12345\")"
   ],
   "metadata": {
    "collapsed": false,
    "ExecuteTime": {
     "end_time": "2023-07-18T04:23:29.936559Z",
     "start_time": "2023-07-18T04:23:29.931578Z"
    }
   }
  },
  {
   "cell_type": "code",
   "execution_count": 13,
   "outputs": [
    {
     "name": "stdout",
     "output_type": "stream",
     "text": [
      "Sujuki 2015 grey\n",
      "4\n"
     ]
    }
   ],
   "source": [
    "#Inheritence\n",
    "\n",
    "class Vehicle:\n",
    "    def __init__(self,make,color,model):\n",
    "        self.make=make\n",
    "        self.color=color\n",
    "        self.model=model\n",
    "\n",
    "    def printDetails(self):\n",
    "        print(self.make, self.model, self.color)\n",
    "\n",
    "class Car(Vehicle):\n",
    "    def __init__(self,make,color,model,doors):\n",
    "        super().__init__(make,color,model)\n",
    "        self.doors=doors\n",
    "\n",
    "    def printCarDetails(self):\n",
    "        self.printDetails()\n",
    "        print(self.doors)\n",
    "\n",
    "obj1=Car(\"Sujuki\",\"grey\",2015,4)\n",
    "obj1.printCarDetails()"
   ],
   "metadata": {
    "collapsed": false,
    "ExecuteTime": {
     "end_time": "2023-07-18T12:01:02.188027Z",
     "start_time": "2023-07-18T12:01:02.183355Z"
    }
   }
  },
  {
   "cell_type": "code",
   "execution_count": 14,
   "outputs": [
    {
     "ename": "TypeError",
     "evalue": "Can't instantiate abstract class Shape with abstract methods area, perimeter",
     "output_type": "error",
     "traceback": [
      "\u001B[0;31m---------------------------------------------------------------------------\u001B[0m",
      "\u001B[0;31mTypeError\u001B[0m                                 Traceback (most recent call last)",
      "Cell \u001B[0;32mIn[14], line 20\u001B[0m\n\u001B[1;32m     16\u001B[0m     \u001B[38;5;28;01mdef\u001B[39;00m \u001B[38;5;21m__init__\u001B[39m(\u001B[38;5;28mself\u001B[39m, length):\n\u001B[1;32m     17\u001B[0m         \u001B[38;5;28mself\u001B[39m\u001B[38;5;241m.\u001B[39mlength \u001B[38;5;241m=\u001B[39m length\n\u001B[0;32m---> 20\u001B[0m shape \u001B[38;5;241m=\u001B[39m \u001B[43mShape\u001B[49m\u001B[43m(\u001B[49m\u001B[43m)\u001B[49m\n",
      "\u001B[0;31mTypeError\u001B[0m: Can't instantiate abstract class Shape with abstract methods area, perimeter"
     ]
    }
   ],
   "source": [
    "#abstract base class\n",
    "from abc import ABC, abstractmethod\n",
    "\n",
    "\n",
    "class Shape(ABC):  # Shape is a child class of ABC\n",
    "    @abstractmethod\n",
    "    def area(self):\n",
    "        pass\n",
    "\n",
    "    @abstractmethod\n",
    "    def perimeter(self):\n",
    "        pass\n",
    "\n",
    "\n",
    "class Square(Shape):\n",
    "    def __init__(self, length):\n",
    "        self.length = length\n",
    "\n",
    "\n",
    "shape = Shape()\n",
    "# this code will not compile since Shape has abstract methods without\n",
    "# method definitions in it"
   ],
   "metadata": {
    "collapsed": false,
    "ExecuteTime": {
     "end_time": "2023-07-18T12:17:04.172912Z",
     "start_time": "2023-07-18T12:17:04.165011Z"
    }
   }
  },
  {
   "cell_type": "code",
   "execution_count": 15,
   "outputs": [
    {
     "name": "stdout",
     "output_type": "stream",
     "text": [
      "Total players in mySchool: 4\n"
     ]
    }
   ],
   "source": [
    "# Object Relationships\n",
    "\n",
    "class Player:\n",
    "    def __init__(self, ID, name, teamName):\n",
    "        self.ID = ID\n",
    "        self.name = name\n",
    "        self.teamName = teamName\n",
    "\n",
    "\n",
    "class Team:\n",
    "    def __init__(self, name):\n",
    "        self.name = name\n",
    "        self.players = []\n",
    "\n",
    "    def getNumberOfPlayers(self):\n",
    "        return len(self.players)\n",
    "\n",
    "    def addPlayer(self, player):\n",
    "        self.players.append(player)\n",
    "\n",
    "\n",
    "class School:\n",
    "    def __init__(self, name):\n",
    "        self.name = name\n",
    "        self.teams = []\n",
    "\n",
    "    def addTeam(self, team):\n",
    "        self.teams.append(team)\n",
    "\n",
    "    def getTotalPlayersInSchool(self):\n",
    "        length = 0\n",
    "        for n in self.teams:\n",
    "            length = length + (n.getNumberOfPlayers())\n",
    "        return length\n",
    "\n",
    "\n",
    "p1 = Player(1, \"Harris\", \"Red\")\n",
    "p2 = Player(2, \"Carol\", \"Red\")\n",
    "p3 = Player(1, \"Johnny\", \"Blue\")\n",
    "p4 = Player(2, \"Sarah\", \"Blue\")\n",
    "\n",
    "red_team = Team(\"Red Team\")\n",
    "red_team.addPlayer(p1)\n",
    "red_team.addPlayer(p2)\n",
    "\n",
    "blue_team = Team(\"Blue Team\")\n",
    "blue_team.addPlayer(p2)\n",
    "blue_team.addPlayer(p3)\n",
    "\n",
    "mySchool = School(\"My School\")\n",
    "mySchool.addTeam(red_team)\n",
    "mySchool.addTeam(blue_team)\n",
    "\n",
    "print(\"Total players in mySchool:\", mySchool.getTotalPlayersInSchool())"
   ],
   "metadata": {
    "collapsed": false,
    "ExecuteTime": {
     "end_time": "2023-07-18T12:27:36.368390Z",
     "start_time": "2023-07-18T12:27:36.353404Z"
    }
   }
  },
  {
   "cell_type": "code",
   "execution_count": null,
   "outputs": [],
   "source": [],
   "metadata": {
    "collapsed": false
   }
  }
 ],
 "metadata": {
  "kernelspec": {
   "display_name": "Python 3",
   "language": "python",
   "name": "python3"
  },
  "language_info": {
   "codemirror_mode": {
    "name": "ipython",
    "version": 2
   },
   "file_extension": ".py",
   "mimetype": "text/x-python",
   "name": "python",
   "nbconvert_exporter": "python",
   "pygments_lexer": "ipython2",
   "version": "2.7.6"
  }
 },
 "nbformat": 4,
 "nbformat_minor": 0
}
