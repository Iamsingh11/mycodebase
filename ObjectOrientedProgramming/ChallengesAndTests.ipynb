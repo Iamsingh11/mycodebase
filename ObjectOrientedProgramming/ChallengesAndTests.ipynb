{
 "cells": [
  {
   "cell_type": "code",
   "execution_count": 4,
   "metadata": {
    "collapsed": true,
    "ExecuteTime": {
     "end_time": "2023-07-17T15:28:25.381707500Z",
     "start_time": "2023-07-17T15:28:25.374729800Z"
    }
   },
   "outputs": [
    {
     "data": {
      "text/plain": "35"
     },
     "execution_count": 4,
     "metadata": {},
     "output_type": "execute_result"
    }
   ],
   "source": [
    "class Point:\n",
    "    def __init__(self,x,y,z):\n",
    "        self.x=x\n",
    "        self.y=y\n",
    "        self.z=z\n",
    "    def sqSum(self):\n",
    "        return ((self.x**2)+(self.y**2)+(self.z**2))\n",
    "\n",
    "p1 =Point(1,3,5)\n",
    "p1.sqSum()"
   ]
  },
  {
   "cell_type": "code",
   "execution_count": 7,
   "outputs": [
    {
     "name": "stdout",
     "output_type": "stream",
     "text": [
      "283\n",
      "94.33333333333333\n"
     ]
    }
   ],
   "source": [
    "class Student:\n",
    "    def __init__(self,name,phy,chem,bio):\n",
    "        self.name=name\n",
    "        self.phy=phy\n",
    "        self.chem=chem\n",
    "        self.bio=bio\n",
    "    def totalObtained(self):\n",
    "        return ((self.phy)+(self.chem)+(self.bio))\n",
    "    def percentage(self):\n",
    "        return(self.totalObtained()/3)\n",
    "\n",
    "s1 = Student('Abhishek',90,98,95)\n",
    "print(s1.totalObtained())\n",
    "print(s1.percentage())"
   ],
   "metadata": {
    "collapsed": false,
    "ExecuteTime": {
     "end_time": "2023-07-17T15:33:34.994745800Z",
     "start_time": "2023-07-17T15:33:34.967819100Z"
    }
   }
  },
  {
   "cell_type": "code",
   "execution_count": 8,
   "outputs": [],
   "source": [
    "class Calculator:\n",
    "    def __init__(self,num1,num2):\n",
    "        self.num1=num1\n",
    "        self.num2=num2\n",
    "    def add(self):\n",
    "        return (self.num1+self.num2)\n",
    "    def subtract(self):\n",
    "        return (self.num1+self.num2)\n",
    "    def multiply(self):\n",
    "        return (self.num1*self.num2)\n",
    "    def divide(self):\n",
    "        return (self.num1/self.num2)"
   ],
   "metadata": {
    "collapsed": false,
    "ExecuteTime": {
     "end_time": "2023-07-17T16:13:19.460380300Z",
     "start_time": "2023-07-17T16:13:19.408093300Z"
    }
   }
  },
  {
   "cell_type": "code",
   "execution_count": null,
   "outputs": [],
   "source": [],
   "metadata": {
    "collapsed": false
   }
  }
 ],
 "metadata": {
  "kernelspec": {
   "display_name": "Python 3",
   "language": "python",
   "name": "python3"
  },
  "language_info": {
   "codemirror_mode": {
    "name": "ipython",
    "version": 2
   },
   "file_extension": ".py",
   "mimetype": "text/x-python",
   "name": "python",
   "nbconvert_exporter": "python",
   "pygments_lexer": "ipython2",
   "version": "2.7.6"
  }
 },
 "nbformat": 4,
 "nbformat_minor": 0
}
