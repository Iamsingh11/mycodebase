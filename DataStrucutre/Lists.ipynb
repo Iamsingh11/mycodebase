{
 "cells": [
  {
   "cell_type": "code",
   "execution_count": 32,
   "metadata": {
    "collapsed": true,
    "ExecuteTime": {
     "end_time": "2023-06-13T16:35:30.414662Z",
     "start_time": "2023-06-13T16:35:30.410806Z"
    }
   },
   "outputs": [],
   "source": [
    "#Removing even number from list\n",
    "def remove_even(lst):\n",
    "    return [x for x in lst if x%2!=0]"
   ]
  },
  {
   "cell_type": "code",
   "execution_count": 33,
   "outputs": [],
   "source": [
    "#Merging 2 sorted list\n",
    "def merge_two_sorted_list(lst1,lst2):\n",
    "    l1 = len(lst1)\n",
    "    l2 = len(lst2)\n",
    "    i=0\n",
    "    j=0\n",
    "    lst3=[]\n",
    "    while i<l1 and j<l2:\n",
    "        if lst1[i]<lst2[j]:\n",
    "            lst3.append(lst1[i])\n",
    "            i+=1\n",
    "        else:\n",
    "            lst3.append(lst2[j])\n",
    "            j+=1\n",
    "    while i<l1:\n",
    "        lst3.append(lst1[i])\n",
    "        i+=1\n",
    "    while j<l2:\n",
    "        lst3.append(lst2[j])\n",
    "        j+=1\n",
    "    return lst3\n",
    "\n"
   ],
   "metadata": {
    "collapsed": false,
    "ExecuteTime": {
     "end_time": "2023-06-13T16:35:30.418419Z",
     "start_time": "2023-06-13T16:35:30.412291Z"
    }
   }
  },
  {
   "cell_type": "code",
   "execution_count": 34,
   "outputs": [
    {
     "data": {
      "text/plain": "[1, 2, 3, 4, 5, 6, 7, 8, 9, 9, 11]"
     },
     "execution_count": 34,
     "metadata": {},
     "output_type": "execute_result"
    }
   ],
   "source": [
    "merge_two_sorted_list([1,3,5,7,9],[2,4,6,8,9,11])"
   ],
   "metadata": {
    "collapsed": false,
    "ExecuteTime": {
     "end_time": "2023-06-13T16:35:30.430453Z",
     "start_time": "2023-06-13T16:35:30.419Z"
    }
   }
  },
  {
   "cell_type": "code",
   "execution_count": 35,
   "outputs": [],
   "source": [
    "#Finding 2 numbers that add upto 'k' from a list\n",
    "def find2Number_equal_to_k(lst,k):\n",
    "    lst.sort()\n",
    "    i=0\n",
    "    lst2=[]\n",
    "    j=len(lst)-1\n",
    "    while i<j:\n",
    "        if lst[i]+lst[j]<k:\n",
    "            i+=1\n",
    "        elif lst[i]+lst[j]>k:\n",
    "            j-=1\n",
    "        else:\n",
    "            lst2.append(lst[i])\n",
    "            lst2.append(lst[j])\n",
    "            return lst2\n",
    "    return False"
   ],
   "metadata": {
    "collapsed": false,
    "ExecuteTime": {
     "end_time": "2023-06-13T16:35:30.430839Z",
     "start_time": "2023-06-13T16:35:30.423472Z"
    }
   }
  },
  {
   "cell_type": "code",
   "execution_count": 36,
   "outputs": [
    {
     "data": {
      "text/plain": "[21, 60]"
     },
     "execution_count": 36,
     "metadata": {},
     "output_type": "execute_result"
    }
   ],
   "source": [
    "find2Number_equal_to_k([1,21,3,14,5,60,7,6],81)"
   ],
   "metadata": {
    "collapsed": false,
    "ExecuteTime": {
     "end_time": "2023-06-13T16:35:30.436638Z",
     "start_time": "2023-06-13T16:35:30.431301Z"
    }
   }
  },
  {
   "cell_type": "code",
   "execution_count": 37,
   "outputs": [],
   "source": [
    "def findMinimum(lst):\n",
    "    min=lst[0]\n",
    "    for i in lst:\n",
    "        if i<min:\n",
    "            min=i\n",
    "    return min"
   ],
   "metadata": {
    "collapsed": false,
    "ExecuteTime": {
     "end_time": "2023-06-13T16:35:30.439953Z",
     "start_time": "2023-06-13T16:35:30.436813Z"
    }
   }
  },
  {
   "cell_type": "code",
   "execution_count": 38,
   "outputs": [
    {
     "data": {
      "text/plain": "0"
     },
     "execution_count": 38,
     "metadata": {},
     "output_type": "execute_result"
    }
   ],
   "source": [
    "findMinimum([4,5,0,6,8,9,1])"
   ],
   "metadata": {
    "collapsed": false,
    "ExecuteTime": {
     "end_time": "2023-06-13T16:35:30.445034Z",
     "start_time": "2023-06-13T16:35:30.440853Z"
    }
   }
  },
  {
   "cell_type": "code",
   "execution_count": 2,
   "outputs": [],
   "source": [
    "#First non-repeating integer in the list\n",
    "def find_first_unique(lst):\n",
    "    di={}\n",
    "    for i in lst:\n",
    "        if i in di:\n",
    "            di[i]+=1\n",
    "        else:\n",
    "            di[i]=1\n",
    "    print(di)"
   ],
   "metadata": {
    "collapsed": false,
    "ExecuteTime": {
     "end_time": "2023-06-25T13:56:18.555297Z",
     "start_time": "2023-06-25T13:56:18.538956Z"
    }
   }
  },
  {
   "cell_type": "code",
   "execution_count": 3,
   "outputs": [
    {
     "name": "stdout",
     "output_type": "stream",
     "text": [
      "{1: 2, 2: 2, 4: 2, 5: 1, 6: 2, 3: 1}\n"
     ]
    }
   ],
   "source": [
    "find_first_unique([1,2,4,5,6,4,3,2,6,1])"
   ],
   "metadata": {
    "collapsed": false,
    "ExecuteTime": {
     "end_time": "2023-06-25T13:56:20.875414Z",
     "start_time": "2023-06-25T13:56:20.867595Z"
    }
   }
  },
  {
   "cell_type": "code",
   "execution_count": 40,
   "outputs": [],
   "source": [],
   "metadata": {
    "collapsed": false,
    "ExecuteTime": {
     "end_time": "2023-06-13T16:35:30.471582Z",
     "start_time": "2023-06-13T16:35:30.454850Z"
    }
   }
  }
 ],
 "metadata": {
  "kernelspec": {
   "display_name": "Python 3",
   "language": "python",
   "name": "python3"
  },
  "language_info": {
   "codemirror_mode": {
    "name": "ipython",
    "version": 2
   },
   "file_extension": ".py",
   "mimetype": "text/x-python",
   "name": "python",
   "nbconvert_exporter": "python",
   "pygments_lexer": "ipython2",
   "version": "2.7.6"
  }
 },
 "nbformat": 4,
 "nbformat_minor": 0
}
