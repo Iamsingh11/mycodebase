{
 "cells": [
  {
   "cell_type": "code",
   "execution_count": 1,
   "metadata": {
    "collapsed": true,
    "ExecuteTime": {
     "end_time": "2023-07-19T05:35:36.637476Z",
     "start_time": "2023-07-19T05:35:36.635331Z"
    }
   },
   "outputs": [],
   "source": [
    "#valid palindrome #2pointers\n",
    "def isPalindrome(arr):\n",
    "    i=0\n",
    "    j=len(arr)-1\n",
    "    while i<=j:\n",
    "        if arr[i]!=arr[j]:\n",
    "            return False\n",
    "        i+=1\n",
    "        j-=1\n",
    "    return True"
   ]
  },
  {
   "cell_type": "code",
   "execution_count": 20,
   "outputs": [],
   "source": [],
   "metadata": {
    "collapsed": false,
    "ExecuteTime": {
     "end_time": "2023-07-19T06:41:13.228554Z",
     "start_time": "2023-07-19T06:41:13.225107Z"
    }
   }
  },
  {
   "cell_type": "code",
   "execution_count": 20,
   "outputs": [],
   "source": [],
   "metadata": {
    "collapsed": false,
    "ExecuteTime": {
     "end_time": "2023-07-19T06:41:11.017945Z",
     "start_time": "2023-07-19T06:41:11.003677Z"
    }
   }
  },
  {
   "cell_type": "code",
   "execution_count": 20,
   "outputs": [
    {
     "data": {
      "text/plain": "True"
     },
     "execution_count": 20,
     "metadata": {},
     "output_type": "execute_result"
    }
   ],
   "source": [
    "def find_sum_of_three(nums, target):\n",
    "    # Sort the input list\n",
    "    nums.sort()\n",
    "\n",
    "    # Fix one integer at a time and find the other two\n",
    "    for i in range(0, len(nums)-2):\n",
    "        # Initialize the two pointers\n",
    "        low = i + 1\n",
    "        high = len(nums) - 1\n",
    "\n",
    "        # Traverse the list to find the triplet whose sum equals the target\n",
    "        while low < high:\n",
    "            triplet = nums[i] + nums[low] + nums[high]\n",
    "\n",
    "            # The sum of the triplet equals the target\n",
    "            if triplet == target:\n",
    "                return True\n",
    "\n",
    "            # The sum of the triplet is less than target, so move the low pointer forward\n",
    "            elif triplet < target:\n",
    "                low += 1\n",
    "\n",
    "            # The sum of the triplet is greater than target, so move the high pointer backward\n",
    "            else:\n",
    "                high -= 1\n",
    "\n",
    "    # No such triplet found whose sum equals the given target\n",
    "    return False\n",
    "find_sum_of_three([1,2,4,5,7,9],11)"
   ],
   "metadata": {
    "collapsed": false,
    "ExecuteTime": {
     "end_time": "2023-07-19T06:41:00.982864Z",
     "start_time": "2023-07-19T06:41:00.968834Z"
    }
   }
  },
  {
   "cell_type": "code",
   "execution_count": 21,
   "outputs": [],
   "source": [
    "#Sort color 2 pointers\n"
   ],
   "metadata": {
    "collapsed": false,
    "ExecuteTime": {
     "end_time": "2023-07-19T08:15:57.477234Z",
     "start_time": "2023-07-19T08:15:57.470767Z"
    }
   }
  },
  {
   "cell_type": "code",
   "execution_count": null,
   "outputs": [],
   "source": [],
   "metadata": {
    "collapsed": false
   }
  }
 ],
 "metadata": {
  "kernelspec": {
   "display_name": "Python 3",
   "language": "python",
   "name": "python3"
  },
  "language_info": {
   "codemirror_mode": {
    "name": "ipython",
    "version": 2
   },
   "file_extension": ".py",
   "mimetype": "text/x-python",
   "name": "python",
   "nbconvert_exporter": "python",
   "pygments_lexer": "ipython2",
   "version": "2.7.6"
  }
 },
 "nbformat": 4,
 "nbformat_minor": 0
}
